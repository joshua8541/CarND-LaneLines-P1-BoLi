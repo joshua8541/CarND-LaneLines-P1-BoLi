{
 "cells": [
  {
   "cell_type": "code",
   "execution_count": 107,
   "metadata": {},
   "outputs": [],
   "source": [
    "#importing some useful packages\n",
    "import matplotlib.pyplot as plt\n",
    "import matplotlib.image as mpimg\n",
    "import numpy as np\n",
    "import cv2\n",
    "import os\n",
    "from moviepy.editor import VideoFileClip\n",
    "from IPython.display import HTML\n",
    "%matplotlib inline\n",
    "\n",
    "def region_of_interest(img, vertices):\n",
    "    \"\"\"\n",
    "    Applies an image mask.\n",
    "    Only keeps the region of the image defined by the polygon\n",
    "    formed from `vertices`. The rest of the image is set to black.\n",
    "    \"\"\"\n",
    "    #defining a blank mask to start with\n",
    "    mask = np.zeros_like(img)   \n",
    "    \n",
    "    #defining a 3 channel or 1 channel color to fill the mask with depending on the input image\n",
    "    if len(img.shape) > 2:\n",
    "        channel_count = img.shape[2]  # i.e. 3 or 4 depending on your image\n",
    "        ignore_mask_color = (255,) * channel_count\n",
    "    else:\n",
    "        ignore_mask_color = 255\n",
    "        \n",
    "    #filling pixels inside the polygon defined by \"vertices\" with the fill color    \n",
    "    cv2.fillPoly(mask, vertices, ignore_mask_color)\n",
    "    \n",
    "    #returning the image only where mask pixels are nonzero\n",
    "    masked_image = cv2.bitwise_and(img, mask)\n",
    "    return masked_image\n",
    "\n",
    "def draw_lines(img, lines, color=[255, 0, 0], thickness=2):\n",
    "    for line in lines:\n",
    "        for x1,y1,x2,y2 in line:\n",
    "            cv2.line(img, (x1, y1), (x2, y2), color, thickness)\n",
    "            \n",
    "def draw_lines_solid(img, lines, color=[255, 0, 0], thickness=5):\n",
    "    #average the m (slope) and b of the lines detected by Hough transform\n",
    "    m_left = []\n",
    "    m_right = []\n",
    "    b_right = []\n",
    "    b_left = []\n",
    "    \n",
    "    for line in lines:\n",
    "        for x1,y1,x2,y2 in line:\n",
    "            m = (y1-y2)/(x1-x2)\n",
    "            b = y1 - x1*m\n",
    "            #seperate the left and right lines\n",
    "            if m > 0:\n",
    "                m_right.append(m)\n",
    "                b_right.append(b)\n",
    "            else:\n",
    "                m_left.append(m)\n",
    "                b_left.append(b)\n",
    "    \n",
    "    #deal with the no-line-detected case\n",
    "    if len(m_right):\n",
    "        m_right_average = np.mean(m_right)\n",
    "        b_right_average = np.mean(b_right)\n",
    "        y1_right = 540\n",
    "        x1_right = int((y1_right - b_right_average)/m_right_average)\n",
    "        y2_right = 320\n",
    "        x2_right = int((y2_right - b_right_average)/m_right_average)\n",
    "    else:\n",
    "        y1_left = 0\n",
    "        x1_left = 0 \n",
    "        y2_left = 0\n",
    "        x2_left = 0\n",
    "\n",
    "    if len(m_left):\n",
    "        m_left_average = np.mean(m_left)\n",
    "        b_left_average = np.mean(b_left)\n",
    "        y1_left = 540\n",
    "        x1_left = int((y1_left - b_left_average)/m_left_average)\n",
    "        y2_left = 320\n",
    "        x2_left = int((y2_left - b_left_average)/m_left_average)\n",
    "    else:\n",
    "        y1_left = 0\n",
    "        x1_left = 0 \n",
    "        y2_left = 0\n",
    "        x2_left = 0       \n",
    "  \n",
    "    lines_extrapolated = np.array([[x1_left,y1_left,x2_left,y2_left],[x1_right,y1_right,x2_right,y2_right]])\n",
    "    \n",
    "    #draw the left and right extropolated lines\n",
    "    line_image_extrapolated = cv2.line(img, (x1_left, y1_left), (x2_left, y2_left), color, thickness)\n",
    "    line_image_extrapolated = cv2.line(img, (x1_right, y1_right), (x2_right, y2_right), color, thickness)\n",
    "    #plt.imshow(line_image_extrapolated)\n",
    "\n",
    "def hough_lines(img, rho, theta, threshold, min_line_len, max_line_gap):\n",
    "    \"\"\"\n",
    "    `img` should be the output of a Canny transform.\n",
    "    Returns an image with hough lines drawn.\n",
    "    \"\"\"\n",
    "    lines = cv2.HoughLinesP(img, rho, theta, threshold, np.array([]), minLineLength=min_line_len, maxLineGap=max_line_gap)\n",
    "    line_img = np.zeros((img.shape[0], img.shape[1], 3), dtype=np.uint8)\n",
    "    \n",
    "    #draw the raw lines\n",
    "    #draw_lines(line_img, lines)\n",
    "    \n",
    "    #draw the extrapolate lines\n",
    "    draw_lines_solid(line_img, lines)\n",
    "    \n",
    "    return line_img\n",
    "\n",
    "def process_image(image):\n",
    "    gray_image = cv2.cvtColor(image, cv2.COLOR_RGB2GRAY)\n",
    "    edges_image = cv2.Canny(image, 100, 200)\n",
    "    imshape = image.shape\n",
    "    vertices = np.array([[(100,imshape[0]),(450, 330), (550, 330), (850,imshape[0])]], dtype=np.int32)\n",
    "    masked_image = region_of_interest(edges_image, vertices)\n",
    "    \n",
    "    #set the parameters for Hough transform\n",
    "    rho = 2\n",
    "    theta = np.pi/180\n",
    "    threshold = 25\n",
    "    min_line_len = 40\n",
    "    max_line_gap = 20\n",
    "    \n",
    "    line_image = hough_lines(masked_image, rho, theta, threshold, min_line_len, max_line_gap)\n",
    "    combo_image = cv2.addWeighted(image, 0.8, line_image, 1, 0) \n",
    "    \n",
    "    return combo_image\n",
    "    \n",
    "#image = mpimg.imread('test_images/solidWhiteRight.jpg')\n",
    "#result_image = process_image(image)\n",
    "#plt.imshow(result_image)\n"
   ]
  },
  {
   "cell_type": "code",
   "execution_count": 108,
   "metadata": {
    "scrolled": true
   },
   "outputs": [
    {
     "name": "stdout",
     "output_type": "stream",
     "text": [
      "[MoviePy] >>>> Building video test_videos_output/solidWhiteRight.mp4\n",
      "[MoviePy] Writing video test_videos_output/solidWhiteRight.mp4\n"
     ]
    },
    {
     "name": "stderr",
     "output_type": "stream",
     "text": [
      " 99%|█████████▉| 125/126 [00:03<00:00, 37.93it/s]\n"
     ]
    },
    {
     "name": "stdout",
     "output_type": "stream",
     "text": [
      "[MoviePy] Done.\n",
      "[MoviePy] >>>> Video ready: test_videos_output/solidWhiteRight.mp4 \n",
      "\n",
      "CPU times: user 2.62 s, sys: 457 ms, total: 3.08 s\n",
      "Wall time: 4.09 s\n"
     ]
    },
    {
     "data": {
      "text/html": [
       "\n",
       "<video width=\"960\" height=\"540\" controls>\n",
       "  <source src=\"test_videos_output/solidWhiteRight.mp4\">\n",
       "</video>\n"
      ],
      "text/plain": [
       "<IPython.core.display.HTML object>"
      ]
     },
     "execution_count": 108,
     "metadata": {},
     "output_type": "execute_result"
    }
   ],
   "source": [
    "white_output = 'test_videos_output/solidWhiteRight.mp4'\n",
    "## To speed up the testing process you may want to try your pipeline on a shorter subclip of the video\n",
    "## To do so add .subclip(start_second,end_second) to the end of the line below\n",
    "## Where start_second and end_second are integer values representing the start and end of the subclip\n",
    "## You may also uncomment the following line for a subclip of the first 5 seconds\n",
    "##clip1 = VideoFileClip(\"test_videos/solidWhiteRight.mp4\").subclip(0,5)\n",
    "clip1 = VideoFileClip(\"test_videos/solidWhiteRight.mp4\").subclip(0,5)\n",
    "white_clip = clip1.fl_image(process_image) #NOTE: this function expects color images!!\n",
    "%time white_clip.write_videofile(white_output, audio=False)\n",
    "\n",
    "HTML(\"\"\"\n",
    "<video width=\"960\" height=\"540\" controls>\n",
    "  <source src=\"{0}\">\n",
    "</video>\n",
    "\"\"\".format(white_output))\n"
   ]
  }
 ],
 "metadata": {
  "kernelspec": {
   "display_name": "Python 3",
   "language": "python",
   "name": "python3"
  },
  "language_info": {
   "codemirror_mode": {
    "name": "ipython",
    "version": 3
   },
   "file_extension": ".py",
   "mimetype": "text/x-python",
   "name": "python",
   "nbconvert_exporter": "python",
   "pygments_lexer": "ipython3",
   "version": "3.5.2"
  },
  "widgets": {
   "state": {},
   "version": "1.1.2"
  }
 },
 "nbformat": 4,
 "nbformat_minor": 2
}
